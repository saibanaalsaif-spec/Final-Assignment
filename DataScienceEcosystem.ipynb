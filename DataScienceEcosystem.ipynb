{
 "cells": [
  {
   "cell_type": "markdown",
   "id": "831ddbeb-b9b3-4742-8be8-e15ea496a8d0",
   "metadata": {},
   "source": [
    "# Data Science Tools and Ecosystem"
   ]
  },
  {
   "cell_type": "markdown",
   "id": "62e552fc-c125-4b04-a2e4-6071b200eaad",
   "metadata": {},
   "source": [
    "In this notebook, Data Science Tools and Ecosystem are summarized.\n",
    "\n",
    "Some of the popular languages that Data Scientists use are:\n",
    "1. Python\n",
    "2. C++\n",
    "3. R"
   ]
  },
  {
   "cell_type": "markdown",
   "id": "7be56f0d-3638-4c7b-a989-3f475465314b",
   "metadata": {},
   "source": [
    "Some of the commonly used libraries used by Data Scientists include:\n",
    "\n",
    "* NumPy\n",
    "* Matplotlib\n",
    "* Scikit\n"
   ]
  },
  {
   "cell_type": "markdown",
   "id": "9d040b65-5a54-4096-880d-5f67783901cd",
   "metadata": {},
   "source": [
    "| Data Science Tools |\n",
    "|-----|\n",
    "| Project Jupyter |\n",
    "| PyTorch |\n",
    "| Tensorflow |"
   ]
  },
  {
   "cell_type": "markdown",
   "id": "ba58816d-400e-4a5f-b402-c97d3827c9ce",
   "metadata": {},
   "source": [
    "Below are a few examples of evaluating arithmetic expressions in Python"
   ]
  },
  {
   "cell_type": "code",
   "execution_count": 2,
   "id": "33b330e8-321a-4245-97b7-ca2fa24ea9eb",
   "metadata": {},
   "outputs": [
    {
     "data": {
      "text/plain": [
       "17"
      ]
     },
     "execution_count": 2,
     "metadata": {},
     "output_type": "execute_result"
    }
   ],
   "source": [
    "# This a simple arithmetic expression to mutiply then add integers\n",
    "(3*4)+5"
   ]
  },
  {
   "cell_type": "code",
   "execution_count": 10,
   "id": "784d7507-1444-436f-8aab-c6b613b027d8",
   "metadata": {},
   "outputs": [
    {
     "name": "stdout",
     "output_type": "stream",
     "text": [
      "3.3333333333333335 hours\n"
     ]
    }
   ],
   "source": [
    "#This will convert 200 minutes to hours by diving by 60\n",
    "x = 200/60\n",
    "print (x, \"hours\")"
   ]
  },
  {
   "cell_type": "markdown",
   "id": "6a1165a0-2be0-445e-931f-2cca3f94d0a8",
   "metadata": {},
   "source": [
    "**Objectives:**\n",
    "* List popular languages\n",
    "* List popular data science libraries\n",
    "* Perform arthimetic operations"
   ]
  },
  {
   "cell_type": "markdown",
   "id": "7df539c7-9fb2-4d34-a0db-13de456f3507",
   "metadata": {},
   "source": [
    "## Author\n",
    "*Saibana Siaf*"
   ]
  },
  {
   "cell_type": "code",
   "execution_count": null,
   "id": "8782a3c5-b389-4f17-ad0f-febe3ca2084c",
   "metadata": {},
   "outputs": [],
   "source": []
  }
 ],
 "metadata": {
  "kernelspec": {
   "display_name": "Python 3 (ipykernel)",
   "language": "python",
   "name": "python3"
  },
  "language_info": {
   "codemirror_mode": {
    "name": "ipython",
    "version": 3
   },
   "file_extension": ".py",
   "mimetype": "text/x-python",
   "name": "python",
   "nbconvert_exporter": "python",
   "pygments_lexer": "ipython3",
   "version": "3.12.8"
  }
 },
 "nbformat": 4,
 "nbformat_minor": 5
}
